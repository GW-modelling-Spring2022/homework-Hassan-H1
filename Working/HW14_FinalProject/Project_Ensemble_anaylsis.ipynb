{
 "cells": [
  {
   "cell_type": "markdown",
   "metadata": {},
   "source": [
    "# Ensemble Analysis\n",
    "\n",
    "This notebook reads in and formats outputs from ensemble simulations so that you can evaluate and plot"
   ]
  },
  {
   "cell_type": "markdown",
   "metadata": {},
   "source": [
    "### Import packages"
   ]
  },
  {
   "cell_type": "code",
   "execution_count": 11,
   "metadata": {},
   "outputs": [],
   "source": [
    "#import packages\n",
    "import flopy\n",
    "import numpy as np\n",
    "import matplotlib.pyplot as plt\n",
    "import matplotlib as mp\n",
    "import pandas as pd\n",
    "import numpy as np\n",
    "import os\n",
    "import csv\n",
    "\n",
    "#additional analysis tools\n",
    "import flopy.utils.binaryfile as bf\n",
    "from mpl_toolkits.mplot3d import Axes3D\n",
    "from matplotlib import cm\n",
    "from matplotlib.ticker import LinearLocator, FormatStrFormatter\n",
    "\n",
    "\n",
    "np.set_printoptions(threshold=np.inf)\n",
    "\n",
    "#jupyter specific--included to show plots in notebook\n",
    "%matplotlib inline "
   ]
  },
  {
   "cell_type": "markdown",
   "metadata": {},
   "source": [
    "# Setup static variables"
   ]
  },
  {
   "cell_type": "code",
   "execution_count": 12,
   "metadata": {},
   "outputs": [
    {
     "name": "stdout",
     "output_type": "stream",
     "text": [
      "10 Ensembles to evaluate\n"
     ]
    }
   ],
   "source": [
    "nrow = 50 #number of rows\n",
    "ncol = 50 #number of columns\n",
    "nlay = 3  #number of layers\n",
    "dx= 1000 #width of grid cells in x direction \n",
    "dy= 1000 #width of grid cells in y direction \n",
    "Lx = ncol*dx  #width of domain in x\n",
    "Ly = nrow*dy #width of domain in y\n",
    "\n",
    "ensembles = [[1,1,1,1,3,3,1],\n",
    "[1,2,2,1,1,2,2],\n",
    "[2,1,3,3,2,1,3],\n",
    "[2,2,2,2,3,3,3],\n",
    "[2,1,3,3,1,2,2],\n",
    "[2,2,3,3,1,1,2],\n",
    "[2,1,1,2,2,2,3],\n",
    "[2,2,3,3,2,1,1],\n",
    "[2,1,2,3,2,2,1],\n",
    "[3,3,3,3,3,3,3]]\n",
    "\n",
    "n_ens = len(ensembles)\n",
    "print(n_ens, 'Ensembles to evaluate')\n"
   ]
  },
  {
   "cell_type": "markdown",
   "metadata": {},
   "source": [
    "## Read in the heads and create timeseries at points"
   ]
  },
  {
   "cell_type": "code",
   "execution_count": 13,
   "metadata": {},
   "outputs": [],
   "source": [
    "#setup well locations and observation points\n",
    "#town well\n",
    "well_loc = (0,21, 38) #town well \n",
    "welli_loc = (0,12, 14) #ag irrigation well \n",
    "wello_loc = (0, 15, 15)  # Extra well if you need it\n",
    "\n",
    "#setup timeseries\n",
    "head_ts = []  # timeseris of head at town well\n",
    "ag_head_ts = []  # timeseries of head at agg well\n",
    "mw1_head_ts = []  # timeseries of head at observation well\n",
    "\n",
    "# Loop through the ensembles and read the data\n",
    "root_name = 'ensemble_' #root of the run names\n",
    "for i in range(len(ensembles)):\n",
    "    name = root_name  #Create the file name from list \n",
    "    for k in range(len(ensembles[i])):\n",
    "        string = str(ensembles[i][k])\n",
    "        name = name + string   \n",
    "\n",
    "    #read in the head and water budget files\n",
    "    headobj = flopy.utils.binaryfile.HeadFile(name+'.hds')\n",
    "   \n",
    "    #Extract out time series of heads at points of interest\n",
    "    head_ts.append(headobj.get_ts(well_loc))\n",
    "    mw1_head_ts.append(headobj.get_ts(wello_loc))\n",
    "    ag_head_ts.append(headobj.get_ts(welli_loc))\n",
    "    times = headobj.get_times()\n",
    "    head_ts.append(np.mean(headobj.get_ts(well_loc)))\n",
    "    #print(budgobj.get_unique_record_names())"
   ]
  },
  {
   "cell_type": "markdown",
   "metadata": {},
   "source": [
    "## Store complete gridded outputs as arrays"
   ]
  },
  {
   "cell_type": "code",
   "execution_count": 14,
   "metadata": {},
   "outputs": [],
   "source": [
    "#setup arrays to store the values\n",
    "head_array = np.zeros((len(ensembles), len(times), nlay, ncol, nrow))\n",
    "frf_array = np.zeros((len(ensembles), len(times), nlay, ncol, nrow))\n",
    "fff_array = np.zeros((len(ensembles), len(times), nlay, ncol, nrow))\n",
    "recharge_array = np.zeros((len(ensembles), len(times), 1, ncol, nrow))\n",
    "et_array = np.zeros((len(ensembles), len(times), 1, ncol, nrow))\n",
    "stor_array = np.zeros((len(ensembles), len(times), 1, ncol, nrow))\n",
    "#print(head_array[:, 240, 0, 38, 21])\n",
    "# Loop through the ensembles and read the data\n",
    "root_name = 'ensemble_' #root of the run names\n",
    "for i in range(len(ensembles)):\n",
    "    name = root_name  #Create the file name from list \n",
    "    for k in range(len(ensembles[i])):\n",
    "        string = str(ensembles[i][k])\n",
    "        name = name + string   \n",
    "\n",
    "    #read in the head and water budget files\n",
    "    headobj = flopy.utils.binaryfile.HeadFile(name+'.hds')\n",
    "    budgobj = flopy.utils.binaryfile.CellBudgetFile(name+'.cbc')   \n",
    "\n",
    "    rowcounter = -1\n",
    "    for t in times:\n",
    "        rowcounter += 1\n",
    "        head_array[i, rowcounter,:, :, :] = headobj.get_data(totim=t)\n",
    "        \n",
    "        tempfrf = np.squeeze(budgobj.get_data(text='flow right face', totim=t))\n",
    "        frf_array[i, rowcounter,:, :, :] = tempfrf\n",
    "        \n",
    "        tempfff = np.squeeze(budgobj.get_data(text='FLOW FRONT FACE', totim=t))\n",
    "        fff_array[i, rowcounter,:, :, :] = tempfff\n",
    "\n",
    "        temprch = np.squeeze(budgobj.get_data(text='RECHARGE', totim=t))\n",
    "        recharge_array[i, rowcounter, :, :, :] = temprch[1]\n",
    "\n",
    "        tempet = np.squeeze(budgobj.get_data(text='ET', totim=t))\n",
    "        et_array[i, rowcounter, :, :, :] = tempet[1]\n",
    "\n",
    "#print(head_array[:, 0, 0, 21, 38])\n",
    "en0 = head_array[0, 0, 0, :, :]\n",
    "en11 = head_array[0, 31, 0, :, :]\n",
    "en12= head_array[0, 32, 0, :, :]\n",
    "en13= head_array[0, 33, 0, :, :]\n",
    "en14= head_array[0, 34, 0, :, :]\n",
    "en15 = head_array[0, 35, 0, :, :]\n",
    "en16= head_array[0, 36, 0, :, :]\n",
    "en17= head_array[0, 37, 0, :, :]\n",
    "en18= head_array[0, 38, 0, :, :]\n",
    "en19 = head_array[0, 93, 0, :, :]\n",
    "en110= head_array[0, 40, 0, :, :]\n",
    "en111= head_array[0, 41, 0, :, :]\n",
    "en112= head_array[0, 42, 0, :, :]\n",
    "en113 = head_array[0, 43, 0, :, :]\n",
    "en114= head_array[0, 44, 0, :, :]\n",
    "en115= head_array[0, 45, 0, :, :]\n",
    "en116= head_array[0, 46, 0, :, :]\n",
    "en117= head_array[0, 47, 0, :, :]\n",
    "en118= head_array[0, 48, 0, :, :]\n",
    "en119= head_array[0, 49, 0, :, :]\n",
    "en120 = head_array[0, 50, 0, :, :]\n",
    "en121= head_array[0, 51, 0, :, :]\n",
    "en122= head_array[0, 52, 0, :, :]\n",
    "en123= head_array[0, 53, 0, :, :]\n",
    "en124= head_array[0, 54, 0, :, :]\n",
    "\n",
    "en101 = head_array[9, 10, 0, :, :]\n",
    "en102= head_array[9, 20, 0, :, :]\n",
    "en103= head_array[9, 30, 0, :, :]\n",
    "en104= head_array[9, 40, 0, :, :]\n",
    "en105 = head_array[9, 50, 0, :, :]\n",
    "en106= head_array[9, 60, 0, :, :]\n",
    "en107= head_array[9, 70, 0, :, :]\n",
    "en108= head_array[9, 80, 0, :, :]\n",
    "en109 = head_array[9, 90, 0, :, :]\n",
    "en1010= head_array[9, 100, 0, :, :]\n",
    "en1011= head_array[9, 110, 0, :, :]\n",
    "en1012= head_array[9, 120, 0, :, :]\n",
    "en1013 = head_array[9, 130, 0, :, :]\n",
    "en1014= head_array[9, 140, 0, :, :]\n",
    "en1015= head_array[9, 150, 0, :, :]\n",
    "en1016= head_array[9, 160, 0, :, :]\n",
    "en1017= head_array[9, 170, 0, :, :]\n",
    "en1018= head_array[9, 180, 0, :, :]\n",
    "en1019= head_array[9, 190, 0, :, :]\n",
    "en1020 = head_array[9, 200, 0, :, :]\n",
    "en1021= head_array[9, 210, 0, :, :]\n",
    "en1022= head_array[9, 220, 0, :, :]\n",
    "en1023= head_array[9, 230, 0, :, :]\n",
    "en1024= head_array[9, 240, 0, :, :]\n",
    "\n",
    "\n",
    "\n",
    "#size = np.shape(en1)\n",
    "#print(size)\n",
    "\n",
    "dataframe = pd.DataFrame(en11) \n",
    "dataframe.to_csv('Ensemble11.csv')\n",
    "\n",
    "dataframe = pd.DataFrame(en12) \n",
    "dataframe.to_csv('Ensemble12.csv')\n",
    "\n",
    "dataframe = pd.DataFrame(en13) \n",
    "dataframe.to_csv('Ensemble13.csv')\n",
    "\n",
    "dataframe = pd.DataFrame(en14) \n",
    "dataframe.to_csv('Ensemble14.csv')\n",
    "\n",
    "dataframe = pd.DataFrame(en15) \n",
    "dataframe.to_csv('Ensemble15.csv')\n",
    "\n",
    "dataframe = pd.DataFrame(en16) \n",
    "dataframe.to_csv('Ensemble16.csv')\n",
    "\n",
    "dataframe = pd.DataFrame(en17) \n",
    "dataframe.to_csv('Ensemble17.csv')\n",
    "\n",
    "dataframe = pd.DataFrame(en18)\n",
    "dataframe.to_csv('Ensemble18.csv')\n",
    "\n",
    "dataframe = pd.DataFrame(en19) \n",
    "dataframe.to_csv('Ensemble19.csv')\n",
    "\n",
    "dataframe = pd.DataFrame(en110) \n",
    "dataframe.to_csv('Ensemble110.csv')\n",
    "\n",
    "dataframe = pd.DataFrame(en111) \n",
    "dataframe.to_csv('Ensemble111.csv')\n",
    "\n",
    "dataframe = pd.DataFrame(en112) \n",
    "dataframe.to_csv('Ensemble112.csv')\n",
    "\n",
    "dataframe = pd.DataFrame(en113) \n",
    "dataframe.to_csv('Ensemble113.csv')\n",
    "\n",
    "dataframe = pd.DataFrame(en114) \n",
    "dataframe.to_csv('Ensemble114.csv')\n",
    "\n",
    "dataframe = pd.DataFrame(en115) \n",
    "dataframe.to_csv('Ensemble115.csv')\n",
    "\n",
    "dataframe = pd.DataFrame(en116) \n",
    "dataframe.to_csv('Ensemble116.csv')\n",
    "\n",
    "dataframe = pd.DataFrame(en117) \n",
    "dataframe.to_csv('Ensemble117.csv')\n",
    "\n",
    "dataframe = pd.DataFrame(en118) \n",
    "dataframe.to_csv('Ensemble118.csv')\n",
    "\n",
    "dataframe = pd.DataFrame(en119)\n",
    "dataframe.to_csv('Ensemble119.csv')\n",
    "\n",
    "dataframe = pd.DataFrame(en120) \n",
    "dataframe.to_csv('Ensemble120.csv')\n",
    "\n",
    "dataframe = pd.DataFrame(en121) \n",
    "dataframe.to_csv('Ensemble121.csv')\n",
    "\n",
    "dataframe = pd.DataFrame(en122) \n",
    "dataframe.to_csv('Ensemble122.csv')\n",
    "\n",
    "dataframe = pd.DataFrame(en123) \n",
    "dataframe.to_csv('Ensemble123.csv')\n",
    "\n",
    "dataframe = pd.DataFrame(en124) \n",
    "dataframe.to_csv('Ensemble124.csv')\n",
    "#...............................................................\n",
    "\n",
    "dataframe = pd.DataFrame(en101) \n",
    "dataframe.to_csv('Ensemble101.csv')\n",
    "\n",
    "dataframe = pd.DataFrame(en102) \n",
    "dataframe.to_csv('Ensemble102.csv')\n",
    "\n",
    "dataframe = pd.DataFrame(en103) \n",
    "dataframe.to_csv('Ensemble103.csv')\n",
    "\n",
    "dataframe = pd.DataFrame(en104) \n",
    "dataframe.to_csv('Ensemble104.csv')\n",
    "\n",
    "dataframe = pd.DataFrame(en105) \n",
    "dataframe.to_csv('Ensemble105.csv')\n",
    "\n",
    "dataframe = pd.DataFrame(en106) \n",
    "dataframe.to_csv('Ensemble106.csv')\n",
    "\n",
    "dataframe = pd.DataFrame(en107) \n",
    "dataframe.to_csv('Ensemble107.csv')\n",
    "\n",
    "dataframe = pd.DataFrame(en108)\n",
    "dataframe.to_csv('Ensemble108.csv')\n",
    "\n",
    "dataframe = pd.DataFrame(en109) \n",
    "dataframe.to_csv('Ensemble109.csv')\n",
    "\n",
    "dataframe = pd.DataFrame(en1010) \n",
    "dataframe.to_csv('Ensemble1010.csv')\n",
    "\n",
    "dataframe = pd.DataFrame(en1011) \n",
    "dataframe.to_csv('Ensemble1011.csv')\n",
    "\n",
    "dataframe = pd.DataFrame(en1012) \n",
    "dataframe.to_csv('Ensemble1012.csv')\n",
    "\n",
    "dataframe = pd.DataFrame(en1013) \n",
    "dataframe.to_csv('Ensemble1013.csv')\n",
    "\n",
    "dataframe = pd.DataFrame(en1014) \n",
    "dataframe.to_csv('Ensemble1014.csv')\n",
    "\n",
    "dataframe = pd.DataFrame(en1015) \n",
    "dataframe.to_csv('Ensemble1015.csv')\n",
    "\n",
    "dataframe = pd.DataFrame(en1016) \n",
    "dataframe.to_csv('Ensemble1016.csv')\n",
    "\n",
    "dataframe = pd.DataFrame(en1017) \n",
    "dataframe.to_csv('Ensemble1017.csv')\n",
    "\n",
    "dataframe = pd.DataFrame(en1018) \n",
    "dataframe.to_csv('Ensemble1018.csv')\n",
    "\n",
    "dataframe = pd.DataFrame(en1019)\n",
    "dataframe.to_csv('Ensemble1019.csv')\n",
    "\n",
    "dataframe = pd.DataFrame(en1020) \n",
    "dataframe.to_csv('Ensemble1020.csv')\n",
    "\n",
    "dataframe = pd.DataFrame(en1021) \n",
    "dataframe.to_csv('Ensemble1021.csv')\n",
    "\n",
    "dataframe = pd.DataFrame(en1022) \n",
    "dataframe.to_csv('Ensemble1022.csv')\n",
    "\n",
    "dataframe = pd.DataFrame(en1023) \n",
    "dataframe.to_csv('Ensemble1023.csv')\n",
    "\n",
    "dataframe = pd.DataFrame(en1024) \n",
    "dataframe.to_csv('Ensemble1024.csv')\n",
    "\n"
   ]
  },
  {
   "cell_type": "markdown",
   "metadata": {},
   "source": [
    "## Read in the river leakage"
   ]
  },
  {
   "cell_type": "code",
   "execution_count": 15,
   "metadata": {},
   "outputs": [
    {
     "data": {
      "image/png": "[encoded data removed]",
      "text/plain": [
       "<Figure size 432x288 with 1 Axes>"
      ]
     },
     "metadata": {
      "needs_background": "light"
     },
     "output_type": "display_data"
    }
   ],
   "source": [
    "#setup arrays to store the values\n",
    "leakage_array = np.zeros((len(ensembles), len(times), 49))\n",
    "\n",
    "# Loop through the ensembles and read the data\n",
    "root_name = 'ensemble_' #root of the run names\n",
    "for i in range(len(ensembles)):\n",
    "    name = root_name  #Create the file name from list \n",
    "    for k in range(len(ensembles[i])):\n",
    "        string = str(ensembles[i][k])\n",
    "        name = name + string   \n",
    "\n",
    "    #water budget files\n",
    "    budgobj = flopy.utils.binaryfile.CellBudgetFile(name+'.cbc')   \n",
    "\n",
    "    rowcounter = -1\n",
    "    for t in times:\n",
    "        rowcounter += 1\n",
    "\n",
    "        templeak = budgobj.get_data(text='RIVER LEAKAGE', totim=t)\n",
    "        leakage_array[i, rowcounter,:] = templeak[0].q\n",
    "#plt.plot(head_array[9,-10,0,12,2:])\n",
    "plt.savefig('head drop-profile ensemble1.jpg')\n",
    "\n",
    "for j in range(len(ensembles)):\n",
    "    label = 'Ensemble ' + str(j)\n",
    "\n",
    "#plt.plot(head_array[1,-1,0,12,2:],label=1)\n",
    "\n",
    "#plt.plot(head_array[2,-1,0,12,2:],label=2)\n",
    "\n",
    "#plt.plot(head_array[3,-1,0,12,2:],label=3)\n",
    "\n",
    "#plt.plot(head_array[4,-1,0,12,2:],label=4)\n",
    "\n",
    "#plt.plot(head_array[5,-1,0,12,2:],label=5)\n",
    "\n",
    "#plt.plot(head_array[6,-1,0,12,2:],label=6)\n",
    "\n",
    "#plt.plot(head_array[7,-1,0,12,2:],label=7)\n",
    "\n",
    "#plt.plot(head_array[8,-1,0,12,2:],label=8)\n",
    "\n",
    "#plt.plot(head_array[9,-1,0,12,2:],label=9)\n",
    "#plt.legend(bbox_to_anchor=(1.2, 0.5), loc='center', ncol=1)\n",
    "\n",
    "plt.plot(head_array[1,50,0,12,2:],label=1)\n",
    "plt.plot(head_array[2,-10,0,12,2:],label=2)\n",
    "plt.plot(head_array[3,50,0,12,2:],label=3)\n",
    "plt.plot(head_array[4,50,0,12,2:],label=4)\n",
    "plt.plot(head_array[5,50,0,12,2:],label=5)\n",
    "plt.plot(head_array[6,50,0,12,2:],label=6)\n",
    "plt.plot(head_array[7,50,0,12,2:],label=7)\n",
    "plt.plot(head_array[8,50,0,12,2:],label=8)\n",
    "plt.plot(head_array[9,50,0,12,2:],label=9)\n",
    "plt.legend(bbox_to_anchor=(1.2, 0.5), loc='center', ncol=1)\n",
    "#plt.savefig('head drop-profile ensemble_all_at_2_9.jpg')\n",
    "plt.show()"
   ]
  },
  {
   "cell_type": "markdown",
   "metadata": {},
   "source": [
    "# Plot all ensembles together"
   ]
  },
  {
   "cell_type": "code",
   "execution_count": 16,
   "metadata": {},
   "outputs": [
    {
     "name": "stderr",
     "output_type": "stream",
     "text": [
      "No artists with labels found to put in legend.  Note that artists whose label start with an underscore are ignored when legend() is called with no argument.\n"
     ]
    },
    {
     "data": {
      "image/png": "[encoded data removed]",
      "text/plain": [
       "<Figure size 432x288 with 1 Axes>"
      ]
     },
     "metadata": {
      "needs_background": "light"
     },
     "output_type": "display_data"
    }
   ],
   "source": [
    "#Head at Aquaseca well \n",
    "plt.subplot(1, 1, 1)\n",
    "plt.title(\"Head at Aquaseca Well\",fontweight='bold')\n",
    "plt.xlabel('time (years)',fontweight='bold')\n",
    "plt.ylabel('head (m)',fontweight='bold')\n",
    "# plt.ylim(75.2,75.8)\n",
    "#for j in range(len(ensembles)):\n",
    "   # label = 'Ensemble ' + str(j)\n",
    "   # plt.plot(head_ts[j][:, 0]/360, head_ts[j][:, 1], label=label) #plot the time series with points at each record\n",
    "plt.legend(bbox_to_anchor=(1.2, 0.5), loc='center', ncol=1)\n",
    "plt.savefig(\"Head_Aqua_ensem.png\",dpi=600)\n",
    "plt.show()"
   ]
  },
  {
   "cell_type": "code",
   "execution_count": 17,
   "metadata": {},
   "outputs": [
    {
     "data": {
      "image/png": "[encoded data removed]",
      "text/plain": [
       "<Figure size 432x288 with 1 Axes>"
      ]
     },
     "metadata": {
      "needs_background": "light"
     },
     "output_type": "display_data"
    }
   ],
   "source": [
    "# Head at observation well\n",
    "plt.subplot(1, 1, 1)\n",
    "plt.title(\"Head at MW1\",fontweight='bold')\n",
    "plt.xlabel('time (days)',fontweight='bold')\n",
    "plt.ylabel('head (m)',fontweight='bold')\n",
    "for j in range(len(ensembles)):\n",
    "    label = 'Ensemble ' + str(j)\n",
    "    plt.plot(mw1_head_ts[j][:, 0]/360, mw1_head_ts[j][:, 1], label=label) #plot the time series with points at each record\n",
    "plt.legend(bbox_to_anchor=(1.2, 0.5), loc='center', ncol=1)\n",
    "plt.savefig(\"Head_M1_ensem.png\",dpi=600)\n",
    "plt.show()"
   ]
  },
  {
   "cell_type": "code",
   "execution_count": 18,
   "metadata": {},
   "outputs": [
    {
     "data": {
      "image/png": "[encoded data removed]",
      "text/plain": [
       "<Figure size 432x288 with 1 Axes>"
      ]
     },
     "metadata": {
      "needs_background": "light"
     },
     "output_type": "display_data"
    }
   ],
   "source": [
    "#Ag Well Plot\n",
    "plt.subplot(1, 1, 1)\n",
    "plt.title(\"Head at Ag Well\",fontweight='bold')\n",
    "plt.xlabel('time (days)',fontweight='bold')\n",
    "plt.ylabel('head (m)',fontweight='bold')\n",
    "for j in range(len(ensembles)):\n",
    "    label = 'Ensemble ' + str(j)\n",
    "    plt.plot(ag_head_ts[j][:, 0]/360, ag_head_ts[j][:, 1], label=label) #plot the time series with points at each record\n",
    "\n",
    "plt.legend(bbox_to_anchor=(1.2, 0.5), loc='center', ncol=1)\n",
    "plt.savefig(\"Head_irri_ensem.png\",dpi=600)\n",
    "plt.show()"
   ]
  },
  {
   "cell_type": "markdown",
   "metadata": {},
   "source": [
    "## Alternate approach: Read in variables and store as dictionaries"
   ]
  },
  {
   "cell_type": "code",
   "execution_count": 19,
   "metadata": {},
   "outputs": [],
   "source": [
    "#setup some structures to store data in \n",
    "head = np.tile({}, n_ens)\n",
    "head_at_well = np.tile({}, n_ens)\n",
    "leakage = np.tile({}, n_ens)\n",
    "fff = np.tile({}, n_ens)\n",
    "stor = np.tile({}, n_ens)\n",
    "recharge = np.tile({}, n_ens)\n",
    "et = np.tile({}, n_ens)\n",
    "frf = np.tile({}, n_ens)\n",
    "\n",
    "# Loop through the ensembles and read the data\n",
    "root_name = 'ensemble_' #root of the run names\n",
    "for i in range(len(ensembles)):\n",
    "    name = root_name  #Create the file name from list \n",
    "    for k in range(len(ensembles[i])):\n",
    "        string = str(ensembles[i][k])\n",
    "        name = name + string   \n",
    "                   \n",
    "    head[i] = {}\n",
    "    head_at_well[i] = {}\n",
    "    leakage[i] = {}\n",
    "    fff[i] = {}\n",
    "    stor[i] = {}\n",
    "    recharge[i] = {}\n",
    "    et[i] = {}\n",
    "    frf[i] = {}\n",
    "\n",
    "    #read in the head and water budget files\n",
    "    headobj = flopy.utils.binaryfile.HeadFile(name+'.hds')\n",
    "    budgobj = flopy.utils.binaryfile.CellBudgetFile(name+'.cbc')\n",
    "   \n",
    "    #store the complete arrays in dictionaries\n",
    "    for stress_per, time in enumerate(times): #iterate through times at end of each stress period\n",
    "        head[i]['sp%s'%(stress_per)] = headobj.get_data(totim=time) #append heads to head list for ea stress per\n",
    "        leakage[i]['sp%s'%(stress_per)] = budgobj.get_data(text='RIVER LEAKAGE',totim=time) #append right face flow to frf list for ea stress per\n",
    "        fff[i]['sp%s'%(stress_per)] = budgobj.get_data(text='FLOW FRONT FACE',totim=time) #append front face flow to fff list for ea stress per\n",
    "        frf[i]['sp%s'%(stress_per)] = budgobj.get_data(text='flow right face', totim=time)\n",
    "        stor[i]['sp%s'%(stress_per)] = budgobj.get_data(text='STORAGE',totim=time)\n",
    "        recharge[i]['sp%s'%(stress_per)] = budgobj.get_data(text='RECHARGE', totim=time) \n",
    "        et[i]['sp%s'%(stress_per)] = budgobj.get_data(text='ET', totim=time) \n",
    "        #for j in range(len(ensembles)):\n",
    "        #head_at_well[i]['sp%s'%(stress_per)] = head_ts.append(np.mean(headobj.get_ts(well_loc)))     \n"
   ]
  },
  {
   "cell_type": "markdown",
   "metadata": {},
   "source": [
    "### Plot a timeseries at the well\n"
   ]
  },
  {
   "cell_type": "code",
   "execution_count": 20,
   "metadata": {},
   "outputs": [
    {
     "data": {
      "image/png": "[encoded data removed]",
      "text/plain": [
       "<Figure size 432x288 with 2 Axes>"
      ]
     },
     "metadata": {
      "needs_background": "light"
     },
     "output_type": "display_data"
    }
   ],
   "source": [
    "#extract time series at the well and at the center\n",
    "time_series_well = headobj.get_ts((0,20,20))  # get the time series using flopy\n",
    "center_point = (0, int(nrow/2), int(ncol/2)) #find the center of the domain\n",
    "time_series_center = headobj.get_ts(center_point)\n",
    "#time_series_head = headobj.get_ts((:,12,:))\n",
    "\n",
    "\n",
    "#Plot\n",
    "plt.subplot(1, 2, 1)\n",
    "plt.title(\"Head at well\", fontweight='bold')\n",
    "plt.xlabel('time (days)', fontweight='bold')\n",
    "plt.ylabel('head (m)', fontweight='bold')\n",
    "plt.plot(time_series_well[:, 0], time_series_well[:, 1], 'b-')\n",
    "\n",
    "plt.subplot(1, 2, 2)\n",
    "plt.title(\"Head at midpoint\", fontweight='bold')\n",
    "plt.xlabel('time (days)', fontweight='bold')\n",
    "plt.ylabel('head (m)', fontweight='bold')\n",
    "plt.plot(time_series_center[:, 0], time_series_center[:, 1], 'b-')\n",
    "plt.savefig('Timeseries at the well21.jpg')\n",
    "plt.show()\n"
   ]
  }
 ],
 "metadata": {
  "kernelspec": {
   "display_name": "Python 3",
   "language": "python",
   "name": "python3"
  },
  "language_info": {
   "codemirror_mode": {
    "name": "ipython",
    "version": 3
   },
   "file_extension": ".py",
   "mimetype": "text/x-python",
   "name": "python",
   "nbconvert_exporter": "python",
   "pygments_lexer": "ipython3",
   "version": "3.8.12"
  }
 },
 "nbformat": 4,
 "nbformat_minor": 4
}
